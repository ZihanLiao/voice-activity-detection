{
 "cells": [
  {
   "cell_type": "markdown",
   "metadata": {
    "id": "FpMplOCA2Fwp"
   },
   "source": [
    "#VAD"
   ]
  },
  {
   "cell_type": "markdown",
   "metadata": {
    "heading_collapsed": true,
    "id": "62A6F_072Fwq"
   },
   "source": [
    "## Install Dependencies"
   ]
  },
  {
   "cell_type": "code",
   "execution_count": null,
   "metadata": {
    "hidden": true,
    "id": "5w5AkskZ2Fwr"
   },
   "outputs": [],
   "source": [
    "#@title Install and Import Dependencies\n",
    "\n",
    "# this assumes that you have a relevant version of PyTorch installed\n",
    "!pip install -q torchaudio\n",
    "\n",
    "SAMPLING_RATE = 16000\n",
    "\n",
    "import torch\n",
    "torch.set_num_threads(1)\n",
    "\n",
    "from IPython.display import Audio\n",
    "from pprint import pprint\n",
    "# download example\n",
    "torch.hub.download_url_to_file('https://models.silero.ai/vad_models/en.wav', 'en_example.wav')"
   ]
  },
  {
   "cell_type": "code",
   "execution_count": null,
   "metadata": {
    "id": "pSifus5IilRp"
   },
   "outputs": [],
   "source": [
    "USE_ONNX = False # change this to True if you want to test onnx model\n",
    "if USE_ONNX:\n",
    "    !pip install -q onnxruntime\n",
    "  \n",
    "model, utils = torch.hub.load(repo_or_dir='snakers4/silero-vad',\n",
    "                              model='silero_vad',\n",
    "                              force_reload=True,\n",
    "                              onnx=USE_ONNX)\n",
    "\n",
    "(get_speech_timestamps,\n",
    " save_audio,\n",
    " read_audio,\n",
    " VADIterator,\n",
    " collect_chunks) = utils"
   ]
  },
  {
   "cell_type": "markdown",
   "metadata": {
    "id": "fXbbaUO3jsrw"
   },
   "source": [
    "## Full Audio"
   ]
  },
  {
   "cell_type": "markdown",
   "metadata": {
    "id": "RAfJPb_a-Auj"
   },
   "source": [
    "**Speech timestapms from full audio**"
   ]
  },
  {
   "cell_type": "code",
   "execution_count": null,
   "metadata": {
    "id": "aI_eydBPjsrx"
   },
   "outputs": [],
   "source": [
    "wav = read_audio('/Users/marlowe/workspace/epd-system/build/bin/1019041_977102_2020-02-12_080000_2020-02-12_100000_16K.wav', sampling_rate=SAMPLING_RATE)\n",
    "# get speech timestamps from full audio file\n",
    "speech_timestamps = get_speech_timestamps(wav, model, sampling_rate=SAMPLING_RATE)\n",
    "pprint(speech_timestamps)"
   ]
  },
  {
   "cell_type": "code",
   "execution_count": null,
   "metadata": {
    "id": "OuEobLchjsry"
   },
   "outputs": [],
   "source": [
    "# merge all speech chunks to one audio\n",
    "save_audio('only_speech.wav',\n",
    "           collect_chunks(speech_timestamps, wav), sampling_rate=SAMPLING_RATE) \n",
    "Audio('only_speech.wav')"
   ]
  },
  {
   "cell_type": "markdown",
   "metadata": {
    "id": "iDKQbVr8jsry"
   },
   "source": [
    "## Stream imitation example"
   ]
  },
  {
   "cell_type": "code",
   "execution_count": null,
   "metadata": {
    "id": "q-lql_2Wjsry"
   },
   "outputs": [],
   "source": [
    "## using VADIterator class\n",
    "import soundfile as sf\n",
    "from utils_vad import VADIterator, read_audio\n",
    "\n",
    "def init_jit_model(model_path: str,\n",
    "                   device=torch.device('cpu')):\n",
    "    torch.set_grad_enabled(False)\n",
    "    model = torch.jit.load(model_path, map_location=device)\n",
    "    model.eval()\n",
    "    return model\n",
    "model = init_jit_model(\"/Users/marlowe/workspace/epd-system/model/silero_vad.jit\")\n",
    "\n",
    "vad_iterator = VADIterator(model, sampling_rate=16000, threshold=0.5)\n",
    "wav = read_audio(f'/Users/marlowe/Desktop/epd-test-data/wav/14_3466_20170826171159.wav', sampling_rate=SAMPLING_RATE)\n",
    "# audio, fs = sf.read('/Users/marlowe/workspace/epd-system/build/bin/1019041_977102_2020-02-12_080000_2020-02-12_100000_16K.wav')\n",
    "window_size_samples = 512 # number of samples in a single audio chunk\n",
    "timesteps = []\n",
    "count = 0\n",
    "s = []\n",
    "for i in range(0, len(wav), window_size_samples):\n",
    "    chunk = wav[i: i+ window_size_samples]\n",
    "    print(\"chunk: {}\".format(count))\n",
    "    print(chunk)\n",
    "    if len(chunk) < window_size_samples:\n",
    "      break\n",
    "    count += 1\n",
    "    speech_dict = vad_iterator(chunk, return_seconds=True)\n",
    "    post = model(chunk, 16000).item()\n",
    "    s.append(post)\n",
    "    # if speech_dict:\n",
    "    #     # print(speech_dict, end=' ')\n",
    "    #     for ts in speech_dict.values():\n",
    "    #       timesteps.append(ts)\n",
    "    #     print(speech_dict, end=' ')\n",
    "    #     break\n",
    "\n",
    "vad_iterator.reset_states() # reset model states after each audio\n",
    "next_ts = 0\n"
   ]
  },
  {
   "cell_type": "code",
   "execution_count": null,
   "metadata": {},
   "outputs": [],
   "source": [
    "## using VADIterator class\n",
    "import soundfile as sf\n",
    "from utils_vad import VADIterator\n",
    "\n",
    "def init_jit_model(model_path: str,\n",
    "                   device=torch.device('cpu')):\n",
    "    torch.set_grad_enabled(False)\n",
    "    model = torch.jit.load(model_path, map_location=device)\n",
    "    model.eval()\n",
    "    return model\n",
    "model = init_jit_model(\"/Users/marlowe/workspace/epd-system/model/silero_vad.jit\")\n",
    "\n",
    "vad_iterator = VADIterator(model, sampling_rate=16000, threshold=0.5)\n",
    "wav = read_audio(f'/Users/marlowe/Desktop/epd-test-data/wav/14_3466_20170826171159.wav', sampling_rate=SAMPLING_RATE)\n",
    "# audio, fs = sf.read('/Users/marlowe/workspace/epd-system/build/bin/1019041_977102_2020-02-12_080000_2020-02-12_100000_16K.wav')\n",
    "window_size_samples = 512 # number of samples in a single audio chunk\n",
    "timesteps = []\n",
    "count = 0\n",
    "s = []\n",
    "for i in range(0, len(wav), window_size_samples):\n",
    "    chunk = wav[i: i+ window_size_samples]\n",
    "    if len(chunk) < window_size_samples:\n",
    "      break\n",
    "    count += 1\n",
    "    speech_dict = vad_iterator(chunk, return_seconds=True)\n",
    "    post = model(chunk, 16000).item()\n",
    "    s.append(post)\n",
    "    # if speech_dict:\n",
    "    #     # print(speech_dict, end=' ')\n",
    "    #     for ts in speech_dict.values():\n",
    "    #       timesteps.append(ts)\n",
    "    #     print(speech_dict, end=' ')\n",
    "    #     break\n",
    "vad_iterator.reset_states() # reset model states after each audio\n",
    "next_ts = 0\n"
   ]
  },
  {
   "cell_type": "code",
   "execution_count": null,
   "metadata": {},
   "outputs": [],
   "source": [
    "import textgrid\n",
    "output_result = []\n",
    "output_result.append([0, timesteps[0], '0'])\n",
    "last_state = 0\n",
    "for i in range(len(timesteps)-1):\n",
    "    if last_state == 0:\n",
    "        last_state = 1\n",
    "        cur_str = '1'\n",
    "    else:\n",
    "        last_state = 0\n",
    "        cur_str = '0'\n",
    "    output_result.append([timesteps[i], timesteps[i+1], cur_str])\n",
    "\n",
    "\n",
    "def make_tg(timestamp, duration, save_path):\n",
    "    duration_second = duration\n",
    "    tg = textgrid.TextGrid(minTime=0, maxTime=duration_second)\n",
    "\n",
    "    tier_word = textgrid.IntervalTier(name=\"vad\", minTime=0, maxTime=duration_second)\n",
    "\n",
    "    for current_word_idx in range(len(timestamp)):\n",
    "        if timestamp[current_word_idx][0] == timestamp[current_word_idx][1]:\n",
    "            continue\n",
    "        interval = textgrid.Interval(minTime=timestamp[current_word_idx][0], maxTime=timestamp[current_word_idx][1],\n",
    "                                     mark=timestamp[current_word_idx][2])\n",
    "\n",
    "        tier_word.addInterval(interval)\n",
    "\n",
    "    tg.tiers.append(tier_word)\n",
    "    tg.write(save_path)\n",
    "\n",
    "\n",
    "def vad_result_to_timestamp(vad_list):\n",
    "\n",
    "    start_pointer = 0\n",
    "    end_pointer = 0\n",
    "    last_value = None\n",
    "    output_result = []\n",
    "    label_list = []\n",
    "\n",
    "    for frame_idx in range(len(vad_list)):\n",
    "        frame_result = vad_list[frame_idx]\n",
    "        if last_value is None:\n",
    "            last_value = frame_result\n",
    "            end_pointer += 1\n",
    "        else:\n",
    "            if frame_result == last_value:\n",
    "                last_value = frame_result\n",
    "                end_pointer += 1\n",
    "            else:\n",
    "                last_value = frame_result\n",
    "                if sum(vad_list[start_pointer:end_pointer]) == 0:\n",
    "                    output_result.append([start_pointer, end_pointer, '0'])\n",
    "                else:\n",
    "                    output_result.append([start_pointer, end_pointer, \"1\"])\n",
    "                end_pointer += 1\n",
    "                start_pointer = end_pointer\n",
    "        if frame_idx == len(vad_list) - 1:\n",
    "            if sum(vad_list[start_pointer:end_pointer]) == 0:\n",
    "                output_result.append([start_pointer, end_pointer, \"0\"])\n",
    "            else:\n",
    "                output_result.append([start_pointer, end_pointer, \"1\"])\n",
    "\n",
    "    return output_result\n",
    "\n",
    "\n",
    "def process(vad_list, save_path):\n",
    "\n",
    "    # frame_idx_list = vad_result_to_timestamp(vad_list)\n",
    "    timestamp = [[i[0] * 0.01, i[1] * 0.01, i[2]] for i in frame_idx_list]\n",
    "    duration = len(vad_list) * 0.01\n",
    "    make_tg(timestamp, duration, save_path)\n",
    "    print(timestamp)\n",
    "\n",
    "make_tg(output_result, len(audio)*0.01, \"./textgrid\")\n",
    "\n"
   ]
  },
  {
   "cell_type": "code",
   "execution_count": null,
   "metadata": {
    "id": "BX3UgwwB2Fwv"
   },
   "outputs": [],
   "source": [
    "## just probabilities\n",
    "\n",
    "wav = read_audio('en_example.wav', sampling_rate=SAMPLING_RATE)\n",
    "speech_probs = []\n",
    "window_size_samples = 1536\n",
    "for i in range(0, len(wav), window_size_samples):\n",
    "    chunk = wav[i: i+ window_size_samples]\n",
    "    if len(chunk) < window_size_samples:\n",
    "      break\n",
    "    speech_prob = model(chunk, SAMPLING_RATE).item()\n",
    "    speech_probs.append(speech_prob)\n",
    "vad_iterator.reset_states() # reset model states after each audio\n",
    "\n",
    "print(speech_probs[:10]) # first 10 chunks predicts"
   ]
  },
  {
   "cell_type": "markdown",
   "metadata": {
    "heading_collapsed": true,
    "id": "36jY0niD2Fww"
   },
   "source": [
    "# Number detector"
   ]
  },
  {
   "cell_type": "markdown",
   "metadata": {
    "heading_collapsed": true,
    "hidden": true,
    "id": "scd1DlS42Fwx"
   },
   "source": [
    "## Install Dependencies"
   ]
  },
  {
   "cell_type": "code",
   "execution_count": null,
   "metadata": {
    "hidden": true,
    "id": "Kq5gQuYq2Fwx"
   },
   "outputs": [],
   "source": [
    "#@title Install and Import Dependencies\n",
    "\n",
    "# this assumes that you have a relevant version of PyTorch installed\n",
    "!pip install -q torchaudio\n",
    "\n",
    "SAMPLING_RATE = 16000\n",
    "\n",
    "import torch\n",
    "torch.set_num_threads(1)\n",
    "\n",
    "from IPython.display import Audio\n",
    "from pprint import pprint\n",
    "# download example\n",
    "torch.hub.download_url_to_file('https://models.silero.ai/vad_models/en_num.wav', 'en_number_example.wav')"
   ]
  },
  {
   "cell_type": "code",
   "execution_count": null,
   "metadata": {
    "id": "dPwCFHmFycUF"
   },
   "outputs": [],
   "source": [
    "USE_ONNX = False # change this to True if you want to test onnx model\n",
    "if USE_ONNX:\n",
    "    !pip install -q onnxruntime\n",
    "  \n",
    "model, utils = torch.hub.load(repo_or_dir='snakers4/silero-vad',\n",
    "                              model='silero_number_detector',\n",
    "                              force_reload=True,\n",
    "                              onnx=USE_ONNX)\n",
    "\n",
    "(get_number_ts,\n",
    " save_audio,\n",
    " read_audio,\n",
    " collect_chunks,\n",
    " drop_chunks) = utils\n"
   ]
  },
  {
   "cell_type": "markdown",
   "metadata": {
    "heading_collapsed": true,
    "hidden": true,
    "id": "qhPa30ij2Fwy"
   },
   "source": [
    "## Full audio"
   ]
  },
  {
   "cell_type": "code",
   "execution_count": null,
   "metadata": {
    "hidden": true,
    "id": "EXpau6xq2Fwy"
   },
   "outputs": [],
   "source": [
    "wav = read_audio('en_number_example.wav', sampling_rate=SAMPLING_RATE)\n",
    "# get number timestamps from full audio file\n",
    "number_timestamps = get_number_ts(wav, model)\n",
    "pprint(number_timestamps)"
   ]
  },
  {
   "cell_type": "code",
   "execution_count": null,
   "metadata": {
    "hidden": true,
    "id": "u-KfXRhZ2Fwy"
   },
   "outputs": [],
   "source": [
    "# convert ms in timestamps to samples\n",
    "for timestamp in number_timestamps:\n",
    "    timestamp['start'] = int(timestamp['start'] * SAMPLING_RATE / 1000)\n",
    "    timestamp['end'] = int(timestamp['end'] * SAMPLING_RATE / 1000)"
   ]
  },
  {
   "cell_type": "code",
   "execution_count": null,
   "metadata": {
    "hidden": true,
    "id": "iwYEC4aZ2Fwy"
   },
   "outputs": [],
   "source": [
    "# merge all number chunks to one audio\n",
    "save_audio('only_numbers.wav',\n",
    "           collect_chunks(number_timestamps, wav), SAMPLING_RATE) \n",
    "Audio('only_numbers.wav')"
   ]
  },
  {
   "cell_type": "code",
   "execution_count": null,
   "metadata": {
    "hidden": true,
    "id": "fHaYejX12Fwy"
   },
   "outputs": [],
   "source": [
    "# drop all number chunks from audio\n",
    "save_audio('no_numbers.wav',\n",
    "           drop_chunks(number_timestamps, wav), SAMPLING_RATE) \n",
    "Audio('no_numbers.wav')"
   ]
  },
  {
   "cell_type": "markdown",
   "metadata": {
    "heading_collapsed": true,
    "id": "PnKtJKbq2Fwz"
   },
   "source": [
    "# Language detector"
   ]
  },
  {
   "cell_type": "markdown",
   "metadata": {
    "heading_collapsed": true,
    "hidden": true,
    "id": "F5cAmMbP2Fwz"
   },
   "source": [
    "## Install Dependencies"
   ]
  },
  {
   "cell_type": "code",
   "execution_count": null,
   "metadata": {
    "hidden": true,
    "id": "Zu9D0t6n2Fwz"
   },
   "outputs": [],
   "source": [
    "#@title Install and Import Dependencies\n",
    "\n",
    "# this assumes that you have a relevant version of PyTorch installed\n",
    "!pip install -q torchaudio\n",
    "\n",
    "SAMPLING_RATE = 16000\n",
    "\n",
    "import torch\n",
    "torch.set_num_threads(1)\n",
    "\n",
    "from IPython.display import Audio\n",
    "from pprint import pprint\n",
    "# download example\n",
    "torch.hub.download_url_to_file('https://models.silero.ai/vad_models/en.wav', 'en_example.wav')"
   ]
  },
  {
   "cell_type": "code",
   "execution_count": null,
   "metadata": {
    "id": "JfRKDZiRztFe"
   },
   "outputs": [],
   "source": [
    "USE_ONNX = False # change this to True if you want to test onnx model\n",
    "if USE_ONNX:\n",
    "    !pip install -q onnxruntime\n",
    "  \n",
    "model, utils = torch.hub.load(repo_or_dir='snakers4/silero-vad',\n",
    "                              model='silero_lang_detector',\n",
    "                              force_reload=True,\n",
    "                              onnx=USE_ONNX)\n",
    "\n",
    "get_language, read_audio = utils"
   ]
  },
  {
   "cell_type": "markdown",
   "metadata": {
    "heading_collapsed": true,
    "hidden": true,
    "id": "iC696eMX2Fwz"
   },
   "source": [
    "## Full audio"
   ]
  },
  {
   "cell_type": "code",
   "execution_count": null,
   "metadata": {
    "hidden": true,
    "id": "c8UYnYBF2Fw0"
   },
   "outputs": [],
   "source": [
    "wav = read_audio('en_example.wav', sampling_rate=SAMPLING_RATE)\n",
    "lang = get_language(wav, model)\n",
    "print(lang)"
   ]
  }
 ],
 "metadata": {
  "colab": {
   "name": "silero-vad.ipynb",
   "provenance": []
  },
  "interpreter": {
   "hash": "6c9871005442ff2487c588a7363015fb1888e17548ba002d96cedba936c3011e"
  },
  "kernelspec": {
   "display_name": "Python 3.8.13 ('py3')",
   "language": "python",
   "name": "python3"
  },
  "language_info": {
   "codemirror_mode": {
    "name": "ipython",
    "version": 3
   },
   "file_extension": ".py",
   "mimetype": "text/x-python",
   "name": "python",
   "nbconvert_exporter": "python",
   "pygments_lexer": "ipython3",
   "version": "3.8.13"
  },
  "toc": {
   "base_numbering": 1,
   "nav_menu": {},
   "number_sections": true,
   "sideBar": true,
   "skip_h1_title": false,
   "title_cell": "Table of Contents",
   "title_sidebar": "Contents",
   "toc_cell": false,
   "toc_position": {},
   "toc_section_display": true,
   "toc_window_display": false
  }
 },
 "nbformat": 4,
 "nbformat_minor": 0
}
